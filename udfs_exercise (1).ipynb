{
 "cells": [
  {
   "cell_type": "markdown",
   "metadata": {},
   "source": [
    "# UDFs in Python"
   ]
  },
  {
   "cell_type": "markdown",
   "metadata": {},
   "source": [
    "#### Greeter\n",
    "Write a function that takes in a person's name, and prints out a greeting.\n",
    "The greeting must be at least three lines, and the person's name must be in each line.\n",
    "Use your function to greet at least **three** different people.\n",
    "\n",
    "**Bonus:** Store your three people in a list, and call your function from a for loop.\n",
    "\n",
    "\n",
    "**Example Output:**\n",
    "\n",
    "Hello John!<br>\n",
    "Hello John!<br>\n",
    "Hello John!<br>"
   ]
  },
  {
   "cell_type": "code",
   "execution_count": 10,
   "metadata": {},
   "outputs": [],
   "source": [
    "def greeting(names):\n",
    "    for name in names:\n",
    "        print(\"Hello, \" + name + \"!\")\n",
    "        "
   ]
  },
  {
   "cell_type": "code",
   "execution_count": 11,
   "metadata": {},
   "outputs": [
    {
     "name": "stdout",
     "output_type": "stream",
     "text": [
      "Hello, jibu!\n",
      "Hello, Kevin!\n",
      "Hello, Peter!\n",
      "Hello, Eric!\n",
      "Hello, Michael!\n",
      "Hello, Alice!\n",
      "Hello, Judy!\n",
      "Hello, Lily!\n",
      "Hello, Linda!\n",
      "Hello, John!\n",
      "Hello, Tom!\n",
      "Hello, Jerry!\n",
      "Hello, Jack!\n",
      "Hello, Rose!\n",
      "Hello, Mary!\n",
      "Hello, Bob!\n",
      "Hello, David!\n",
      "Hello, James!\n",
      "Hello, Andy!\n",
      "Hello, Lucy!\n",
      "Hello, Luna!\n",
      "Hello, Lily!\n",
      "Hello, Linda!\n",
      "Hello, John!\n",
      "Hello, Tom!\n",
      "Hello, Jerry!\n",
      "Hello, Jack!\n",
      "Hello, Rose!\n",
      "Hello, Mary!\n",
      "Hello, Bob!\n",
      "Hello, David!\n",
      "Hello, James!\n",
      "Hello, Andy!\n",
      "Hello, Lucy!\n",
      "Hello, Luna!\n",
      "Hello, Lily!\n",
      "Hello, Linda!\n",
      "Hello, John!\n",
      "Hello, Tom!\n",
      "Hello, Jerry!\n",
      "Hello, Jack!\n",
      "Hello, Rose!\n",
      "Hello, Mary!\n",
      "Hello, Bob!\n",
      "Hello, David!\n",
      "Hello, James!\n",
      "Hello, Andy!\n",
      "Hello, Lucy!\n",
      "Hello, Luna!\n",
      "Hello, Lily!\n",
      "Hello, Linda!\n",
      "Hello, John!\n",
      "Hello, Tom!\n",
      "Hello, Jerry!\n",
      "Hello, Jack!\n",
      "Hello, Rose!\n",
      "Hello, Mary!\n",
      "Hello, Bob!\n",
      "Hello, David!\n",
      "Hello, James!\n",
      "Hello, Andy!\n",
      "Hello, Lucy!\n",
      "Hello, Luna!\n",
      "Hello, Lily!\n",
      "Hello, Linda!\n",
      "Hello, John!\n",
      "Hello, Tom!\n",
      "Hello, Jerry!\n",
      "Hello, Jack!\n",
      "Hello, Rose!\n",
      "Hello, Mary!\n",
      "Hello, Bob!\n",
      "Hello, David!\n",
      "Hello, James!\n",
      "Hello, Andy!\n",
      "Hello, Lucy!\n",
      "Hello, Luna!\n",
      "Hello, Lily!\n",
      "Hello, Linda!\n",
      "Hello, John!\n",
      "Hello, Tom!\n",
      "Hello, Jerry!\n",
      "Hello, Jack!\n",
      "Hello, Rose!\n",
      "Hello, Mary!\n",
      "Hello, Bob!\n",
      "Hello, David!\n",
      "Hello, James!\n",
      "Hello, Andy!\n",
      "Hello, Lucy!\n",
      "Hello, Luna!\n"
     ]
    }
   ],
   "source": [
    "greeting([\"jibu\", \"Kevin\", \"Peter\", \"Eric\", \"Michael\", \"Alice\", \"Judy\", \"Lily\", \"Linda\", \"John\", \"Tom\", \"Jerry\", \"Jack\", \"Rose\", \"Mary\", \"Bob\", \"David\", \"James\", \"Andy\", \"Lucy\", \"Luna\", \"Lily\", \"Linda\", \"John\", \"Tom\", \"Jerry\", \"Jack\", \"Rose\", \"Mary\", \"Bob\", \"David\", \"James\", \"Andy\", \"Lucy\", \"Luna\", \"Lily\", \"Linda\", \"John\", \"Tom\", \"Jerry\", \"Jack\", \"Rose\", \"Mary\", \"Bob\", \"David\", \"James\", \"Andy\", \"Lucy\", \"Luna\", \"Lily\", \"Linda\", \"John\", \"Tom\", \"Jerry\", \"Jack\", \"Rose\", \"Mary\", \"Bob\", \"David\", \"James\", \"Andy\", \"Lucy\", \"Luna\", \"Lily\", \"Linda\", \"John\", \"Tom\", \"Jerry\", \"Jack\", \"Rose\", \"Mary\", \"Bob\", \"David\", \"James\", \"Andy\", \"Lucy\", \"Luna\", \"Lily\", \"Linda\", \"John\", \"Tom\", \"Jerry\", \"Jack\", \"Rose\", \"Mary\", \"Bob\", \"David\", \"James\", \"Andy\", \"Lucy\", \"Luna\"])"
   ]
  },
  {
   "cell_type": "markdown",
   "metadata": {},
   "source": [
    "#### Full Names\n",
    "Write a function that takes in a first name and a last name, and prints out a nicely formatted full name, in a sentence. Your sentence could be as simple as, \"Hello, full_name.\""
   ]
  },
  {
   "cell_type": "code",
   "execution_count": 12,
   "metadata": {},
   "outputs": [],
   "source": [
    "def greeting_2(names, surname):\n",
    "    for name in range(len(names)):\n",
    "        print(f\"Hello, {names[name]} {surname}!\")"
   ]
  },
  {
   "cell_type": "code",
   "execution_count": 13,
   "metadata": {},
   "outputs": [
    {
     "name": "stdout",
     "output_type": "stream",
     "text": [
      "Hello, jibu Smith!\n",
      "Hello, Kevin Smith!\n",
      "Hello, Peter Smith!\n",
      "Hello, Eric Smith!\n",
      "Hello, Michael Smith!\n",
      "Hello, Alice Smith!\n",
      "Hello, Judy Smith!\n",
      "Hello, Lily Smith!\n",
      "Hello, Linda Smith!\n",
      "Hello, John Smith!\n",
      "Hello, Tom Smith!\n",
      "Hello, Jerry Smith!\n",
      "Hello, Jack Smith!\n",
      "Hello, Rose Smith!\n",
      "Hello, Mary Smith!\n",
      "Hello, Bob Smith!\n",
      "Hello, David Smith!\n",
      "Hello, James Smith!\n",
      "Hello, Andy Smith!\n",
      "Hello, Lucy Smith!\n",
      "Hello, Luna Smith!\n",
      "Hello, Lily Smith!\n",
      "Hello, Linda Smith!\n",
      "Hello, John Smith!\n",
      "Hello, Tom Smith!\n",
      "Hello, Jerry Smith!\n",
      "Hello, Jack Smith!\n",
      "Hello, Rose Smith!\n",
      "Hello, Mary Smith!\n",
      "Hello, Bob Smith!\n",
      "Hello, David Smith!\n",
      "Hello, James Smith!\n",
      "Hello, Andy Smith!\n",
      "Hello, Lucy Smith!\n",
      "Hello, Luna Smith!\n",
      "Hello, Lily Smith!\n",
      "Hello, Linda Smith!\n",
      "Hello, John Smith!\n",
      "Hello, Tom Smith!\n",
      "Hello, Jerry Smith!\n",
      "Hello, Jack Smith!\n",
      "Hello, Rose Smith!\n",
      "Hello, Mary Smith!\n",
      "Hello, Bob Smith!\n",
      "Hello, David Smith!\n",
      "Hello, James Smith!\n",
      "Hello, Andy Smith!\n",
      "Hello, Lucy Smith!\n",
      "Hello, Luna Smith!\n",
      "Hello, Lily Smith!\n",
      "Hello, Linda Smith!\n",
      "Hello, John Smith!\n",
      "Hello, Tom Smith!\n",
      "Hello, Jerry Smith!\n",
      "Hello, Jack Smith!\n",
      "Hello, Rose Smith!\n",
      "Hello, Mary Smith!\n",
      "Hello, Bob Smith!\n",
      "Hello, David Smith!\n",
      "Hello, James Smith!\n",
      "Hello, Andy Smith!\n",
      "Hello, Lucy Smith!\n",
      "Hello, Luna Smith!\n",
      "Hello, Lily Smith!\n",
      "Hello, Linda Smith!\n",
      "Hello, John Smith!\n",
      "Hello, Tom Smith!\n",
      "Hello, Jerry Smith!\n",
      "Hello, Jack Smith!\n",
      "Hello, Rose Smith!\n",
      "Hello, Mary Smith!\n",
      "Hello, Bob Smith!\n",
      "Hello, David Smith!\n",
      "Hello, James Smith!\n",
      "Hello, Andy Smith!\n",
      "Hello, Lucy Smith!\n",
      "Hello, Luna Smith!\n"
     ]
    }
   ],
   "source": [
    "greeting_2([\"jibu\", \"Kevin\", \"Peter\", \"Eric\", \"Michael\", \"Alice\", \"Judy\", \"Lily\", \"Linda\", \"John\", \"Tom\", \"Jerry\", \"Jack\", \"Rose\", \"Mary\", \"Bob\", \"David\", \"James\", \"Andy\", \"Lucy\", \"Luna\", \"Lily\", \"Linda\", \"John\", \"Tom\", \"Jerry\", \"Jack\", \"Rose\", \"Mary\", \"Bob\", \"David\", \"James\", \"Andy\", \"Lucy\", \"Luna\", \"Lily\", \"Linda\", \"John\", \"Tom\", \"Jerry\", \"Jack\", \"Rose\", \"Mary\", \"Bob\", \"David\", \"James\", \"Andy\", \"Lucy\", \"Luna\", \"Lily\", \"Linda\", \"John\", \"Tom\", \"Jerry\", \"Jack\", \"Rose\", \"Mary\", \"Bob\", \"David\", \"James\", \"Andy\", \"Lucy\", \"Luna\", \"Lily\", \"Linda\", \"John\", \"Tom\", \"Jerry\", \"Jack\", \"Rose\", \"Mary\", \"Bob\", \"David\", \"James\", \"Andy\", \"Lucy\", \"Luna\"], \"Smith\")"
   ]
  },
  {
   "cell_type": "markdown",
   "metadata": {},
   "source": [
    "#### Addition Calculator\n",
    "Write a function that takes in two numbers, and adds them together. Make your function print out a sentence showing the two numbers, and the result.\n",
    "\n",
    "**Example Output:**\n",
    "\n",
    "The sum of 2 and 3 is 5."
   ]
  },
  {
   "cell_type": "code",
   "execution_count": 14,
   "metadata": {},
   "outputs": [],
   "source": [
    "def add(a, b):\n",
    "    print(f\" The sum of {a} and {b} is {a+b}\")"
   ]
  },
  {
   "cell_type": "code",
   "execution_count": 15,
   "metadata": {},
   "outputs": [
    {
     "name": "stdout",
     "output_type": "stream",
     "text": [
      " The sum of 2 and 5 is 7\n"
     ]
    }
   ],
   "source": [
    "add(2,5)"
   ]
  },
  {
   "cell_type": "code",
   "execution_count": 17,
   "metadata": {},
   "outputs": [],
   "source": [
    "def add(a, b):\n",
    "    return a+b"
   ]
  },
  {
   "cell_type": "code",
   "execution_count": null,
   "metadata": {},
   "outputs": [],
   "source": []
  },
  {
   "cell_type": "markdown",
   "metadata": {},
   "source": [
    "#### Return Calculator\n",
    "Modify Addition Calculator so that your function **returns** the sum of the two numbers. The printing should happen outside of the function."
   ]
  },
  {
   "cell_type": "code",
   "execution_count": 18,
   "metadata": {},
   "outputs": [
    {
     "data": {
      "text/plain": [
       "7"
      ]
     },
     "execution_count": 18,
     "metadata": {},
     "output_type": "execute_result"
    }
   ],
   "source": [
    "add(2,5)"
   ]
  },
  {
   "cell_type": "code",
   "execution_count": null,
   "metadata": {},
   "outputs": [],
   "source": []
  },
  {
   "cell_type": "markdown",
   "metadata": {},
   "source": [
    "#### Sum everything in the list\n",
    "\n",
    "Write a Python function to sum all the numbers in a list"
   ]
  },
  {
   "cell_type": "code",
   "execution_count": 20,
   "metadata": {},
   "outputs": [],
   "source": [
    "def sum_all(*args):\n",
    "    return sum(args)"
   ]
  },
  {
   "cell_type": "code",
   "execution_count": 23,
   "metadata": {},
   "outputs": [
    {
     "data": {
      "text/plain": [
       "22"
      ]
     },
     "execution_count": 23,
     "metadata": {},
     "output_type": "execute_result"
    }
   ],
   "source": [
    "sum_all(4,5,6,7)"
   ]
  },
  {
   "cell_type": "markdown",
   "metadata": {},
   "source": [
    "#### Reverse string\n",
    "\n",
    "Write a Python program to reverse a string.\n",
    "\n",
    "Sample String : \"1234abcd\" <br>\n",
    "Expected Output : \"dcba4321\""
   ]
  },
  {
   "cell_type": "code",
   "execution_count": 24,
   "metadata": {},
   "outputs": [],
   "source": [
    "def reverse(string):\n",
    "    return string[::-1]"
   ]
  },
  {
   "cell_type": "code",
   "execution_count": 26,
   "metadata": {},
   "outputs": [
    {
     "data": {
      "text/plain": [
       "'dcba4321'"
      ]
     },
     "execution_count": 26,
     "metadata": {},
     "output_type": "execute_result"
    }
   ],
   "source": [
    "reverse(\"1234abcd\")"
   ]
  },
  {
   "cell_type": "markdown",
   "metadata": {},
   "source": [
    "#### Range check\n",
    "\n",
    "Write a Python function to check whether a number is in a given range. \n",
    "\n",
    "Inputs: number, tuple of min and max<br>\n",
    "Outputs: True/False"
   ]
  },
  {
   "cell_type": "code",
   "execution_count": 30,
   "metadata": {},
   "outputs": [],
   "source": [
    "def check(num, tup):\n",
    "    if num in range(tup[0], tup[1]):\n",
    "        return True\n",
    "    else:\n",
    "        return False"
   ]
  },
  {
   "cell_type": "code",
   "execution_count": 31,
   "metadata": {},
   "outputs": [
    {
     "data": {
      "text/plain": [
       "False"
      ]
     },
     "execution_count": 31,
     "metadata": {},
     "output_type": "execute_result"
    }
   ],
   "source": [
    "check(1, (3, 9))"
   ]
  },
  {
   "cell_type": "code",
   "execution_count": null,
   "metadata": {},
   "outputs": [],
   "source": []
  }
 ],
 "metadata": {
  "kernelspec": {
   "display_name": "LHL_env",
   "language": "python",
   "name": "lhl_env"
  },
  "language_info": {
   "codemirror_mode": {
    "name": "ipython",
    "version": 3
   },
   "file_extension": ".py",
   "mimetype": "text/x-python",
   "name": "python",
   "nbconvert_exporter": "python",
   "pygments_lexer": "ipython3",
   "version": "3.9.16"
  }
 },
 "nbformat": 4,
 "nbformat_minor": 4
}
